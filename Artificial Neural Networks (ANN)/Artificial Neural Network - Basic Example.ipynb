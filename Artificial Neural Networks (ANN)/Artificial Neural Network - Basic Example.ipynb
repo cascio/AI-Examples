{
 "cells": [
  {
   "cell_type": "markdown",
   "metadata": {},
   "source": [
    "# Artificial Neural Network (ANN) - Basic Example"
   ]
  },
  {
   "cell_type": "markdown",
   "metadata": {},
   "source": [
    "## Predicting Customer Churn (Banking)"
   ]
  },
  {
   "cell_type": "markdown",
   "metadata": {},
   "source": [
    "The exercise applies an Artifical Neural Network (ANN) using Tensorflow/Keras to predict customer churn at a bank. \n",
    "\n",
    "This notebook illustrates model training using Train-Test-Split and predicts customer churn based on new information."
   ]
  },
  {
   "cell_type": "markdown",
   "metadata": {},
   "source": [
    "#### Import Required Packages"
   ]
  },
  {
   "cell_type": "code",
   "execution_count": 1,
   "metadata": {},
   "outputs": [
    {
     "name": "stderr",
     "output_type": "stream",
     "text": [
      "Using TensorFlow backend.\n"
     ]
    }
   ],
   "source": [
    "import numpy as np\n",
    "import matplotlib.pyplot as plt\n",
    "import pandas as pd\n",
    "import keras\n",
    "from keras.models import Sequential\n",
    "from keras.layers import Dense\n",
    "from sklearn.metrics import confusion_matrix\n",
    "from sklearn.model_selection import train_test_split\n",
    "from sklearn.preprocessing import LabelEncoder, OneHotEncoder, StandardScaler"
   ]
  },
  {
   "cell_type": "markdown",
   "metadata": {},
   "source": [
    "#### Import Dataset"
   ]
  },
  {
   "cell_type": "code",
   "execution_count": 2,
   "metadata": {},
   "outputs": [
    {
     "data": {
      "text/html": [
       "<div>\n",
       "<style scoped>\n",
       "    .dataframe tbody tr th:only-of-type {\n",
       "        vertical-align: middle;\n",
       "    }\n",
       "\n",
       "    .dataframe tbody tr th {\n",
       "        vertical-align: top;\n",
       "    }\n",
       "\n",
       "    .dataframe thead th {\n",
       "        text-align: right;\n",
       "    }\n",
       "</style>\n",
       "<table border=\"1\" class=\"dataframe\">\n",
       "  <thead>\n",
       "    <tr style=\"text-align: right;\">\n",
       "      <th></th>\n",
       "      <th>RowNumber</th>\n",
       "      <th>CustomerId</th>\n",
       "      <th>Surname</th>\n",
       "      <th>CreditScore</th>\n",
       "      <th>Geography</th>\n",
       "      <th>Gender</th>\n",
       "      <th>Age</th>\n",
       "      <th>Tenure</th>\n",
       "      <th>Balance</th>\n",
       "      <th>NumOfProducts</th>\n",
       "      <th>HasCrCard</th>\n",
       "      <th>IsActiveMember</th>\n",
       "      <th>EstimatedSalary</th>\n",
       "      <th>Exited</th>\n",
       "    </tr>\n",
       "  </thead>\n",
       "  <tbody>\n",
       "    <tr>\n",
       "      <th>0</th>\n",
       "      <td>1</td>\n",
       "      <td>15634602</td>\n",
       "      <td>Hargrave</td>\n",
       "      <td>619</td>\n",
       "      <td>France</td>\n",
       "      <td>Female</td>\n",
       "      <td>42</td>\n",
       "      <td>2</td>\n",
       "      <td>0.00</td>\n",
       "      <td>1</td>\n",
       "      <td>1</td>\n",
       "      <td>1</td>\n",
       "      <td>101348.88</td>\n",
       "      <td>1</td>\n",
       "    </tr>\n",
       "    <tr>\n",
       "      <th>1</th>\n",
       "      <td>2</td>\n",
       "      <td>15647311</td>\n",
       "      <td>Hill</td>\n",
       "      <td>608</td>\n",
       "      <td>Spain</td>\n",
       "      <td>Female</td>\n",
       "      <td>41</td>\n",
       "      <td>1</td>\n",
       "      <td>83807.86</td>\n",
       "      <td>1</td>\n",
       "      <td>0</td>\n",
       "      <td>1</td>\n",
       "      <td>112542.58</td>\n",
       "      <td>0</td>\n",
       "    </tr>\n",
       "    <tr>\n",
       "      <th>2</th>\n",
       "      <td>3</td>\n",
       "      <td>15619304</td>\n",
       "      <td>Onio</td>\n",
       "      <td>502</td>\n",
       "      <td>France</td>\n",
       "      <td>Female</td>\n",
       "      <td>42</td>\n",
       "      <td>8</td>\n",
       "      <td>159660.80</td>\n",
       "      <td>3</td>\n",
       "      <td>1</td>\n",
       "      <td>0</td>\n",
       "      <td>113931.57</td>\n",
       "      <td>1</td>\n",
       "    </tr>\n",
       "    <tr>\n",
       "      <th>3</th>\n",
       "      <td>4</td>\n",
       "      <td>15701354</td>\n",
       "      <td>Boni</td>\n",
       "      <td>699</td>\n",
       "      <td>France</td>\n",
       "      <td>Female</td>\n",
       "      <td>39</td>\n",
       "      <td>1</td>\n",
       "      <td>0.00</td>\n",
       "      <td>2</td>\n",
       "      <td>0</td>\n",
       "      <td>0</td>\n",
       "      <td>93826.63</td>\n",
       "      <td>0</td>\n",
       "    </tr>\n",
       "    <tr>\n",
       "      <th>4</th>\n",
       "      <td>5</td>\n",
       "      <td>15737888</td>\n",
       "      <td>Mitchell</td>\n",
       "      <td>850</td>\n",
       "      <td>Spain</td>\n",
       "      <td>Female</td>\n",
       "      <td>43</td>\n",
       "      <td>2</td>\n",
       "      <td>125510.82</td>\n",
       "      <td>1</td>\n",
       "      <td>1</td>\n",
       "      <td>1</td>\n",
       "      <td>79084.10</td>\n",
       "      <td>0</td>\n",
       "    </tr>\n",
       "  </tbody>\n",
       "</table>\n",
       "</div>"
      ],
      "text/plain": [
       "   RowNumber  CustomerId   Surname  CreditScore Geography  Gender  Age  \\\n",
       "0          1    15634602  Hargrave          619    France  Female   42   \n",
       "1          2    15647311      Hill          608     Spain  Female   41   \n",
       "2          3    15619304      Onio          502    France  Female   42   \n",
       "3          4    15701354      Boni          699    France  Female   39   \n",
       "4          5    15737888  Mitchell          850     Spain  Female   43   \n",
       "\n",
       "   Tenure    Balance  NumOfProducts  HasCrCard  IsActiveMember  \\\n",
       "0       2       0.00              1          1               1   \n",
       "1       1   83807.86              1          0               1   \n",
       "2       8  159660.80              3          1               0   \n",
       "3       1       0.00              2          0               0   \n",
       "4       2  125510.82              1          1               1   \n",
       "\n",
       "   EstimatedSalary  Exited  \n",
       "0        101348.88       1  \n",
       "1        112542.58       0  \n",
       "2        113931.57       1  \n",
       "3         93826.63       0  \n",
       "4         79084.10       0  "
      ]
     },
     "execution_count": 2,
     "metadata": {},
     "output_type": "execute_result"
    }
   ],
   "source": [
    "dataset = pd.read_csv('Churn_Modelling.csv')\n",
    "X = dataset.iloc[:, 3:13].values\n",
    "y = dataset.iloc[:, 13].values\n",
    "dataset.head()"
   ]
  },
  {
   "cell_type": "markdown",
   "metadata": {},
   "source": [
    "#### Encode Categorical Data"
   ]
  },
  {
   "cell_type": "code",
   "execution_count": 3,
   "metadata": {},
   "outputs": [
    {
     "name": "stderr",
     "output_type": "stream",
     "text": [
      "/Users/michaelcascio/.pyenv/versions/3.7.2/envs/data-tools/lib/python3.7/site-packages/sklearn/preprocessing/_encoders.py:371: FutureWarning: The handling of integer data will change in version 0.22. Currently, the categories are determined based on the range [0, max(values)], while in the future they will be determined based on the unique values.\n",
      "If you want the future behaviour and silence this warning, you can specify \"categories='auto'\".\n",
      "In case you used a LabelEncoder before this OneHotEncoder to convert the categories to integers, then you can now use the OneHotEncoder directly.\n",
      "  warnings.warn(msg, FutureWarning)\n",
      "/Users/michaelcascio/.pyenv/versions/3.7.2/envs/data-tools/lib/python3.7/site-packages/sklearn/preprocessing/_encoders.py:392: DeprecationWarning: The 'categorical_features' keyword is deprecated in version 0.20 and will be removed in 0.22. You can use the ColumnTransformer instead.\n",
      "  \"use the ColumnTransformer instead.\", DeprecationWarning)\n"
     ]
    }
   ],
   "source": [
    "labelencoder_X_1 = LabelEncoder()\n",
    "X[:, 1] = labelencoder_X_1.fit_transform(X[:, 1])\n",
    "labelencoder_X_2 = LabelEncoder()\n",
    "X[:, 2] = labelencoder_X_2.fit_transform(X[:, 2])\n",
    "onehotencoder = OneHotEncoder(categorical_features = [1])\n",
    "X = onehotencoder.fit_transform(X).toarray()\n",
    "X = X[:, 1:]"
   ]
  },
  {
   "cell_type": "markdown",
   "metadata": {},
   "source": [
    "#### Split Dataset into Training and Test Datasets"
   ]
  },
  {
   "cell_type": "code",
   "execution_count": 4,
   "metadata": {},
   "outputs": [],
   "source": [
    "X_train, X_test, y_train, y_test = train_test_split(X, y, test_size = 0.2, random_state = 0)"
   ]
  },
  {
   "cell_type": "markdown",
   "metadata": {},
   "source": [
    "#### Scale Features"
   ]
  },
  {
   "cell_type": "code",
   "execution_count": 5,
   "metadata": {},
   "outputs": [],
   "source": [
    "sc = StandardScaler()\n",
    "X_train = sc.fit_transform(X_train)\n",
    "X_test = sc.transform(X_test)"
   ]
  },
  {
   "cell_type": "markdown",
   "metadata": {},
   "source": [
    "#### Create the Artificial Neural Network (ANN)"
   ]
  },
  {
   "cell_type": "code",
   "execution_count": 6,
   "metadata": {},
   "outputs": [
    {
     "name": "stdout",
     "output_type": "stream",
     "text": [
      "WARNING:tensorflow:From /Users/michaelcascio/.pyenv/versions/3.7.2/envs/data-tools/lib/python3.7/site-packages/tensorflow/python/framework/op_def_library.py:263: colocate_with (from tensorflow.python.framework.ops) is deprecated and will be removed in a future version.\n",
      "Instructions for updating:\n",
      "Colocations handled automatically by placer.\n"
     ]
    }
   ],
   "source": [
    "classifier = Sequential()\n",
    "\n",
    "# Adding the input layer and the first hidden layer\n",
    "classifier.add(Dense(units = 6, kernel_initializer = 'uniform', activation = 'relu', input_dim = 11))\n",
    "\n",
    "# Adding the second hidden layer\n",
    "classifier.add(Dense(units = 6, kernel_initializer = 'uniform', activation = 'relu'))\n",
    "\n",
    "# Adding the output layer\n",
    "classifier.add(Dense(units = 1, kernel_initializer = 'uniform', activation = 'sigmoid'))\n",
    "\n",
    "# Compiling the ANN\n",
    "classifier.compile(optimizer = 'adam', loss = 'binary_crossentropy', metrics = ['accuracy'])"
   ]
  },
  {
   "cell_type": "markdown",
   "metadata": {},
   "source": [
    "#### Fit the ANN to the Training Dataset"
   ]
  },
  {
   "cell_type": "code",
   "execution_count": 7,
   "metadata": {},
   "outputs": [
    {
     "name": "stdout",
     "output_type": "stream",
     "text": [
      "WARNING:tensorflow:From /Users/michaelcascio/.pyenv/versions/3.7.2/envs/data-tools/lib/python3.7/site-packages/tensorflow/python/ops/math_ops.py:3066: to_int32 (from tensorflow.python.ops.math_ops) is deprecated and will be removed in a future version.\n",
      "Instructions for updating:\n",
      "Use tf.cast instead.\n",
      "Epoch 1/100\n",
      "8000/8000 [==============================] - 2s 248us/step - loss: 0.4864 - acc: 0.7955\n",
      "Epoch 2/100\n",
      "8000/8000 [==============================] - 2s 192us/step - loss: 0.4306 - acc: 0.7960\n",
      "Epoch 3/100\n",
      "8000/8000 [==============================] - 2s 220us/step - loss: 0.4263 - acc: 0.7960\n",
      "Epoch 4/100\n",
      "8000/8000 [==============================] - 2s 206us/step - loss: 0.4221 - acc: 0.8011\n",
      "Epoch 5/100\n",
      "8000/8000 [==============================] - 2s 200us/step - loss: 0.4187 - acc: 0.8231\n",
      "Epoch 6/100\n",
      "8000/8000 [==============================] - 2s 200us/step - loss: 0.4166 - acc: 0.8252\n",
      "Epoch 7/100\n",
      "8000/8000 [==============================] - 2s 202us/step - loss: 0.4144 - acc: 0.8296 0s - loss: 0.\n",
      "Epoch 8/100\n",
      "8000/8000 [==============================] - 2s 200us/step - loss: 0.4132 - acc: 0.8297\n",
      "Epoch 9/100\n",
      "8000/8000 [==============================] - 2s 221us/step - loss: 0.4115 - acc: 0.8326\n",
      "Epoch 10/100\n",
      "8000/8000 [==============================] - 2s 204us/step - loss: 0.4102 - acc: 0.8340\n",
      "Epoch 11/100\n",
      "8000/8000 [==============================] - 2s 198us/step - loss: 0.4086 - acc: 0.8331\n",
      "Epoch 12/100\n",
      "8000/8000 [==============================] - 2s 194us/step - loss: 0.4071 - acc: 0.8349\n",
      "Epoch 13/100\n",
      "8000/8000 [==============================] - 2s 199us/step - loss: 0.4049 - acc: 0.8345\n",
      "Epoch 14/100\n",
      "8000/8000 [==============================] - 2s 212us/step - loss: 0.4034 - acc: 0.8352\n",
      "Epoch 15/100\n",
      "8000/8000 [==============================] - 2s 202us/step - loss: 0.4025 - acc: 0.8356\n",
      "Epoch 16/100\n",
      "8000/8000 [==============================] - 2s 195us/step - loss: 0.4013 - acc: 0.8357\n",
      "Epoch 17/100\n",
      "8000/8000 [==============================] - 2s 194us/step - loss: 0.4004 - acc: 0.8356 1s - loss:\n",
      "Epoch 18/100\n",
      "8000/8000 [==============================] - 2s 198us/step - loss: 0.3999 - acc: 0.8342\n",
      "Epoch 19/100\n",
      "8000/8000 [==============================] - 2s 193us/step - loss: 0.3993 - acc: 0.8357\n",
      "Epoch 20/100\n",
      "8000/8000 [==============================] - 2s 207us/step - loss: 0.3987 - acc: 0.8351\n",
      "Epoch 21/100\n",
      "8000/8000 [==============================] - 2s 197us/step - loss: 0.3980 - acc: 0.8360\n",
      "Epoch 22/100\n",
      "8000/8000 [==============================] - 2s 207us/step - loss: 0.3981 - acc: 0.8355\n",
      "Epoch 23/100\n",
      "8000/8000 [==============================] - 2s 203us/step - loss: 0.3973 - acc: 0.8361\n",
      "Epoch 24/100\n",
      "8000/8000 [==============================] - 2s 227us/step - loss: 0.3968 - acc: 0.8369\n",
      "Epoch 25/100\n",
      "8000/8000 [==============================] - 2s 211us/step - loss: 0.3962 - acc: 0.8355\n",
      "Epoch 26/100\n",
      "8000/8000 [==============================] - 2s 225us/step - loss: 0.3964 - acc: 0.8350\n",
      "Epoch 27/100\n",
      "8000/8000 [==============================] - 2s 210us/step - loss: 0.3966 - acc: 0.8347\n",
      "Epoch 28/100\n",
      "8000/8000 [==============================] - 2s 206us/step - loss: 0.3960 - acc: 0.8365\n",
      "Epoch 29/100\n",
      "8000/8000 [==============================] - 2s 226us/step - loss: 0.3957 - acc: 0.8366\n",
      "Epoch 30/100\n",
      "8000/8000 [==============================] - 2s 229us/step - loss: 0.3953 - acc: 0.8370 0s - loss: 0.396\n",
      "Epoch 31/100\n",
      "8000/8000 [==============================] - 2s 216us/step - loss: 0.3959 - acc: 0.8350\n",
      "Epoch 32/100\n",
      "8000/8000 [==============================] - 2s 245us/step - loss: 0.3954 - acc: 0.8352\n",
      "Epoch 33/100\n",
      "8000/8000 [==============================] - 2s 228us/step - loss: 0.3949 - acc: 0.8357\n",
      "Epoch 34/100\n",
      "8000/8000 [==============================] - 2s 192us/step - loss: 0.3948 - acc: 0.8355\n",
      "Epoch 35/100\n",
      "8000/8000 [==============================] - 2s 192us/step - loss: 0.3950 - acc: 0.8371\n",
      "Epoch 36/100\n",
      "8000/8000 [==============================] - 2s 211us/step - loss: 0.3947 - acc: 0.8366\n",
      "Epoch 37/100\n",
      "8000/8000 [==============================] - 2s 211us/step - loss: 0.3946 - acc: 0.8361 0s - loss: 0.3916 - acc: 0.83\n",
      "Epoch 38/100\n",
      "8000/8000 [==============================] - 2s 195us/step - loss: 0.3947 - acc: 0.8374\n",
      "Epoch 39/100\n",
      "8000/8000 [==============================] - 2s 202us/step - loss: 0.3944 - acc: 0.8379\n",
      "Epoch 40/100\n",
      "8000/8000 [==============================] - 2s 249us/step - loss: 0.3945 - acc: 0.8385\n",
      "Epoch 41/100\n",
      "8000/8000 [==============================] - 2s 265us/step - loss: 0.3942 - acc: 0.8365\n",
      "Epoch 42/100\n",
      "8000/8000 [==============================] - 2s 283us/step - loss: 0.3945 - acc: 0.8379\n",
      "Epoch 43/100\n",
      "8000/8000 [==============================] - 2s 254us/step - loss: 0.3941 - acc: 0.8371\n",
      "Epoch 44/100\n",
      "8000/8000 [==============================] - 2s 302us/step - loss: 0.3939 - acc: 0.8371\n",
      "Epoch 45/100\n",
      "8000/8000 [==============================] - 2s 250us/step - loss: 0.3943 - acc: 0.8360\n",
      "Epoch 46/100\n",
      "8000/8000 [==============================] - 2s 231us/step - loss: 0.3942 - acc: 0.8379 1\n",
      "Epoch 47/100\n",
      "8000/8000 [==============================] - 2s 208us/step - loss: 0.3938 - acc: 0.8372\n",
      "Epoch 48/100\n",
      "8000/8000 [==============================] - 2s 213us/step - loss: 0.3941 - acc: 0.8371\n",
      "Epoch 49/100\n",
      "8000/8000 [==============================] - 2s 196us/step - loss: 0.3941 - acc: 0.8369\n",
      "Epoch 50/100\n",
      "8000/8000 [==============================] - 2s 189us/step - loss: 0.3942 - acc: 0.8360\n",
      "Epoch 51/100\n",
      "8000/8000 [==============================] - 2s 190us/step - loss: 0.3944 - acc: 0.8370\n",
      "Epoch 52/100\n",
      "8000/8000 [==============================] - 1s 183us/step - loss: 0.3940 - acc: 0.8369\n",
      "Epoch 53/100\n",
      "8000/8000 [==============================] - 2s 188us/step - loss: 0.3937 - acc: 0.8396 1s - l\n",
      "Epoch 54/100\n",
      "8000/8000 [==============================] - 2s 189us/step - loss: 0.3935 - acc: 0.8370\n",
      "Epoch 55/100\n",
      "8000/8000 [==============================] - 1s 187us/step - loss: 0.3941 - acc: 0.8371\n",
      "Epoch 56/100\n",
      "8000/8000 [==============================] - 1s 186us/step - loss: 0.3930 - acc: 0.8371\n",
      "Epoch 57/100\n",
      "8000/8000 [==============================] - 2s 189us/step - loss: 0.3943 - acc: 0.8384\n",
      "Epoch 58/100\n",
      "8000/8000 [==============================] - 2s 188us/step - loss: 0.3941 - acc: 0.8366\n",
      "Epoch 59/100\n",
      "8000/8000 [==============================] - 2s 210us/step - loss: 0.3932 - acc: 0.8379\n",
      "Epoch 60/100\n",
      "8000/8000 [==============================] - 2s 207us/step - loss: 0.3929 - acc: 0.8376\n",
      "Epoch 61/100\n",
      "8000/8000 [==============================] - 2s 215us/step - loss: 0.3935 - acc: 0.8381\n",
      "Epoch 62/100\n",
      "8000/8000 [==============================] - 2s 202us/step - loss: 0.3934 - acc: 0.8374\n",
      "Epoch 63/100\n",
      "8000/8000 [==============================] - 2s 219us/step - loss: 0.3935 - acc: 0.8370\n",
      "Epoch 64/100\n",
      "8000/8000 [==============================] - 2s 196us/step - loss: 0.3938 - acc: 0.8366\n",
      "Epoch 65/100\n",
      "8000/8000 [==============================] - 2s 205us/step - loss: 0.3932 - acc: 0.8375 0s - loss: 0.3938 - acc: 0\n",
      "Epoch 66/100\n",
      "8000/8000 [==============================] - 2s 206us/step - loss: 0.3933 - acc: 0.8371\n",
      "Epoch 67/100\n",
      "8000/8000 [==============================] - 2s 210us/step - loss: 0.3933 - acc: 0.8375\n",
      "Epoch 68/100\n",
      "8000/8000 [==============================] - 2s 208us/step - loss: 0.3933 - acc: 0.8370 0s - loss: 0.3951 - ac\n",
      "Epoch 69/100\n",
      "8000/8000 [==============================] - 2s 229us/step - loss: 0.3930 - acc: 0.8374\n",
      "Epoch 70/100\n",
      "8000/8000 [==============================] - 2s 271us/step - loss: 0.3931 - acc: 0.8380\n",
      "Epoch 71/100\n",
      "8000/8000 [==============================] - 3s 329us/step - loss: 0.3934 - acc: 0.8372\n",
      "Epoch 72/100\n",
      "8000/8000 [==============================] - 2s 221us/step - loss: 0.3941 - acc: 0.8360\n",
      "Epoch 73/100\n",
      "8000/8000 [==============================] - 2s 265us/step - loss: 0.3924 - acc: 0.8381 1s - loss: 0.4098 - acc - ETA: 1s\n",
      "Epoch 74/100\n",
      "8000/8000 [==============================] - 2s 271us/step - loss: 0.3924 - acc: 0.8386\n",
      "Epoch 75/100\n",
      "8000/8000 [==============================] - 2s 229us/step - loss: 0.3922 - acc: 0.8376 0s - loss: 0.3914 - acc: 0.8\n",
      "Epoch 76/100\n",
      "8000/8000 [==============================] - 2s 277us/step - loss: 0.3918 - acc: 0.8392 1s - loss: 0.3\n",
      "Epoch 77/100\n",
      "8000/8000 [==============================] - 2s 240us/step - loss: 0.3904 - acc: 0.8389\n",
      "Epoch 78/100\n",
      "8000/8000 [==============================] - 2s 288us/step - loss: 0.3889 - acc: 0.8386\n",
      "Epoch 79/100\n",
      "8000/8000 [==============================] - 2s 267us/step - loss: 0.3861 - acc: 0.8407\n",
      "Epoch 80/100\n",
      "8000/8000 [==============================] - 2s 227us/step - loss: 0.3820 - acc: 0.8420\n",
      "Epoch 81/100\n",
      "8000/8000 [==============================] - 2s 237us/step - loss: 0.3767 - acc: 0.8402 0s - loss: 0.3809 -\n",
      "Epoch 82/100\n",
      "8000/8000 [==============================] - 2s 256us/step - loss: 0.3692 - acc: 0.8475\n",
      "Epoch 83/100\n",
      "8000/8000 [==============================] - 2s 215us/step - loss: 0.3641 - acc: 0.8500\n",
      "Epoch 84/100\n",
      "8000/8000 [==============================] - 2s 235us/step - loss: 0.3596 - acc: 0.8541\n",
      "Epoch 85/100\n",
      "8000/8000 [==============================] - 2s 236us/step - loss: 0.3549 - acc: 0.8559 0s - loss: 0.3573 - acc: 0.8\n",
      "Epoch 86/100\n",
      "8000/8000 [==============================] - 2s 220us/step - loss: 0.3529 - acc: 0.8552\n",
      "Epoch 87/100\n",
      "8000/8000 [==============================] - 2s 210us/step - loss: 0.3503 - acc: 0.8586\n",
      "Epoch 88/100\n",
      "8000/8000 [==============================] - 2s 194us/step - loss: 0.3500 - acc: 0.8594\n",
      "Epoch 89/100\n",
      "8000/8000 [==============================] - 2s 223us/step - loss: 0.3493 - acc: 0.8590\n",
      "Epoch 90/100\n",
      "8000/8000 [==============================] - 2s 267us/step - loss: 0.3486 - acc: 0.8611\n",
      "Epoch 91/100\n",
      "8000/8000 [==============================] - 2s 251us/step - loss: 0.3476 - acc: 0.8607\n",
      "Epoch 92/100\n",
      "8000/8000 [==============================] - 2s 255us/step - loss: 0.3467 - acc: 0.8600 1s - los\n",
      "Epoch 93/100\n",
      "8000/8000 [==============================] - 2s 236us/step - loss: 0.3468 - acc: 0.8596 0s - loss:\n",
      "Epoch 94/100\n",
      "8000/8000 [==============================] - 2s 241us/step - loss: 0.3461 - acc: 0.8604 0s - loss: 0.3428 -\n",
      "Epoch 95/100\n",
      "8000/8000 [==============================] - 2s 225us/step - loss: 0.3461 - acc: 0.8585 1s -\n",
      "Epoch 96/100\n",
      "8000/8000 [==============================] - 2s 254us/step - loss: 0.3456 - acc: 0.8607\n",
      "Epoch 97/100\n",
      "8000/8000 [==============================] - 2s 236us/step - loss: 0.3445 - acc: 0.8619\n",
      "Epoch 98/100\n",
      "8000/8000 [==============================] - 2s 247us/step - loss: 0.3450 - acc: 0.8579\n",
      "Epoch 99/100\n",
      "8000/8000 [==============================] - 2s 223us/step - loss: 0.3450 - acc: 0.8602 0s - loss: 0.3442 - acc: 0.\n",
      "Epoch 100/100\n",
      "8000/8000 [==============================] - 2s 246us/step - loss: 0.3443 - acc: 0.8614 0s - loss: 0.3482 - \n"
     ]
    },
    {
     "data": {
      "text/plain": [
       "<keras.callbacks.History at 0x131cb7da0>"
      ]
     },
     "execution_count": 7,
     "metadata": {},
     "output_type": "execute_result"
    }
   ],
   "source": [
    "classifier.fit(X_train, y_train, batch_size = 10, epochs = 100)"
   ]
  },
  {
   "cell_type": "markdown",
   "metadata": {},
   "source": [
    "#### Make Predictions Based on Test Dataset (Probability of churn > 0.5 means customer will churn)"
   ]
  },
  {
   "cell_type": "code",
   "execution_count": 10,
   "metadata": {},
   "outputs": [],
   "source": [
    "y_pred = classifier.predict(X_test)\n",
    "y_pred = (y_pred > 0.5)"
   ]
  },
  {
   "cell_type": "markdown",
   "metadata": {},
   "source": [
    "#### Evaluate Model Accuracy on Test Dataset Using Confusion Matrix"
   ]
  },
  {
   "cell_type": "code",
   "execution_count": 12,
   "metadata": {
    "scrolled": true
   },
   "outputs": [
    {
     "data": {
      "text/plain": [
       "array([[1519,   76],\n",
       "       [ 200,  205]])"
      ]
     },
     "execution_count": 12,
     "metadata": {},
     "output_type": "execute_result"
    }
   ],
   "source": [
    "cm = confusion_matrix(y_test, y_pred)\n",
    "cm"
   ]
  },
  {
   "cell_type": "code",
   "execution_count": 14,
   "metadata": {
    "scrolled": true
   },
   "outputs": [
    {
     "name": "stdout",
     "output_type": "stream",
     "text": [
      "Test Accuracy: 86.20%\n"
     ]
    }
   ],
   "source": [
    "test_accuracy = ((1519+205)/(1519+205+76+200))*100\n",
    "print(f'Test Accuracy: {test_accuracy:.2f}%')"
   ]
  },
  {
   "cell_type": "markdown",
   "metadata": {},
   "source": [
    "#### Predict a Single New Observation (Will this new customer churn?)"
   ]
  },
  {
   "cell_type": "markdown",
   "metadata": {},
   "source": [
    "New Customer Information: \n",
    "Geography: France\n",
    "Credit Score: 600\n",
    "Gender: Male\n",
    "Age: 40\n",
    "Tenure: 3\n",
    "Balance: 60000\n",
    "Number of Products: 2\n",
    "Has Credit Card: Yes\n",
    "Is Active Member: Yes\n",
    "Estimated Salary: 50000"
   ]
  },
  {
   "cell_type": "markdown",
   "metadata": {},
   "source": [
    "#### New customter information is input as a 2-dimensional np.array, transformed with the same scaler previously fit to the training data. Values are input as floats to avoid warning. First two values being 0,0 denote the one-hot-encoding for 'France'. Fourth value being 1 denotes one-hot-encoding for Male. The prediction that the customer will churn is false, meaning they are not expected to churn (probability < 0.5)"
   ]
  },
  {
   "cell_type": "code",
   "execution_count": 21,
   "metadata": {},
   "outputs": [
    {
     "data": {
      "text/plain": [
       "array([[False]])"
      ]
     },
     "execution_count": 21,
     "metadata": {},
     "output_type": "execute_result"
    }
   ],
   "source": [
    "new_prediction = classifier.predict(sc.transform(np.array([[0.,0.,600.,1.,40.,3.,60000.,2.,1.,1.,50000.]])))\n",
    "new_prediction = (new_prediction>0.5)\n",
    "new_prediction"
   ]
  }
 ],
 "metadata": {
  "kernelspec": {
   "display_name": "Python 3",
   "language": "python",
   "name": "python3"
  },
  "language_info": {
   "codemirror_mode": {
    "name": "ipython",
    "version": 3
   },
   "file_extension": ".py",
   "mimetype": "text/x-python",
   "name": "python",
   "nbconvert_exporter": "python",
   "pygments_lexer": "ipython3",
   "version": "3.7.2"
  }
 },
 "nbformat": 4,
 "nbformat_minor": 2
}
