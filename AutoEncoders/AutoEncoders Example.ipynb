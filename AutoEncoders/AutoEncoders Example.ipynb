{
 "cells": [
  {
   "cell_type": "markdown",
   "metadata": {},
   "source": [
    "#### Import required packages"
   ]
  },
  {
   "cell_type": "code",
   "execution_count": 43,
   "metadata": {},
   "outputs": [],
   "source": [
    "import numpy as np\n",
    "import pandas as pd\n",
    "import torch\n",
    "import torch.nn as nn\n",
    "import torch.nn.parallel\n",
    "import torch.optim as optim\n",
    "import torch.utils.data\n",
    "from torch.autograd import Variable"
   ]
  },
  {
   "cell_type": "markdown",
   "metadata": {},
   "source": [
    "#### Import movies dataset\n",
    "<u>Column Meaning:</u><br>\n",
    "<i>0 - Movie ID<br>\n",
    "1 - Name<br>\n",
    "2 - Genres</i>"
   ]
  },
  {
   "cell_type": "code",
   "execution_count": 44,
   "metadata": {
    "scrolled": true
   },
   "outputs": [
    {
     "data": {
      "text/html": [
       "<div>\n",
       "<style scoped>\n",
       "    .dataframe tbody tr th:only-of-type {\n",
       "        vertical-align: middle;\n",
       "    }\n",
       "\n",
       "    .dataframe tbody tr th {\n",
       "        vertical-align: top;\n",
       "    }\n",
       "\n",
       "    .dataframe thead th {\n",
       "        text-align: right;\n",
       "    }\n",
       "</style>\n",
       "<table border=\"1\" class=\"dataframe\">\n",
       "  <thead>\n",
       "    <tr style=\"text-align: right;\">\n",
       "      <th></th>\n",
       "      <th>0</th>\n",
       "      <th>1</th>\n",
       "      <th>2</th>\n",
       "    </tr>\n",
       "  </thead>\n",
       "  <tbody>\n",
       "    <tr>\n",
       "      <th>0</th>\n",
       "      <td>1</td>\n",
       "      <td>Toy Story (1995)</td>\n",
       "      <td>Animation|Children's|Comedy</td>\n",
       "    </tr>\n",
       "    <tr>\n",
       "      <th>1</th>\n",
       "      <td>2</td>\n",
       "      <td>Jumanji (1995)</td>\n",
       "      <td>Adventure|Children's|Fantasy</td>\n",
       "    </tr>\n",
       "    <tr>\n",
       "      <th>2</th>\n",
       "      <td>3</td>\n",
       "      <td>Grumpier Old Men (1995)</td>\n",
       "      <td>Comedy|Romance</td>\n",
       "    </tr>\n",
       "    <tr>\n",
       "      <th>3</th>\n",
       "      <td>4</td>\n",
       "      <td>Waiting to Exhale (1995)</td>\n",
       "      <td>Comedy|Drama</td>\n",
       "    </tr>\n",
       "    <tr>\n",
       "      <th>4</th>\n",
       "      <td>5</td>\n",
       "      <td>Father of the Bride Part II (1995)</td>\n",
       "      <td>Comedy</td>\n",
       "    </tr>\n",
       "  </tbody>\n",
       "</table>\n",
       "</div>"
      ],
      "text/plain": [
       "   0                                   1                             2\n",
       "0  1                    Toy Story (1995)   Animation|Children's|Comedy\n",
       "1  2                      Jumanji (1995)  Adventure|Children's|Fantasy\n",
       "2  3             Grumpier Old Men (1995)                Comedy|Romance\n",
       "3  4            Waiting to Exhale (1995)                  Comedy|Drama\n",
       "4  5  Father of the Bride Part II (1995)                        Comedy"
      ]
     },
     "execution_count": 44,
     "metadata": {},
     "output_type": "execute_result"
    }
   ],
   "source": [
    "movies = pd.read_csv('ml-1m/movies.dat', sep='::', header = None, engine = 'python', encoding = 'latin-1')\n",
    "movies.head()"
   ]
  },
  {
   "cell_type": "markdown",
   "metadata": {},
   "source": [
    "#### Import users dataset\n",
    "<u>Column Meaning:</u><br>\n",
    "<i>0 - User ID<br>\n",
    "1 - Gender<br>\n",
    "2 - Age<br>\n",
    "3 - Job<br>\n",
    "4 - Zip Code</i>"
   ]
  },
  {
   "cell_type": "code",
   "execution_count": 45,
   "metadata": {},
   "outputs": [
    {
     "data": {
      "text/html": [
       "<div>\n",
       "<style scoped>\n",
       "    .dataframe tbody tr th:only-of-type {\n",
       "        vertical-align: middle;\n",
       "    }\n",
       "\n",
       "    .dataframe tbody tr th {\n",
       "        vertical-align: top;\n",
       "    }\n",
       "\n",
       "    .dataframe thead th {\n",
       "        text-align: right;\n",
       "    }\n",
       "</style>\n",
       "<table border=\"1\" class=\"dataframe\">\n",
       "  <thead>\n",
       "    <tr style=\"text-align: right;\">\n",
       "      <th></th>\n",
       "      <th>0</th>\n",
       "      <th>1</th>\n",
       "      <th>2</th>\n",
       "      <th>3</th>\n",
       "      <th>4</th>\n",
       "    </tr>\n",
       "  </thead>\n",
       "  <tbody>\n",
       "    <tr>\n",
       "      <th>0</th>\n",
       "      <td>1</td>\n",
       "      <td>F</td>\n",
       "      <td>1</td>\n",
       "      <td>10</td>\n",
       "      <td>48067</td>\n",
       "    </tr>\n",
       "    <tr>\n",
       "      <th>1</th>\n",
       "      <td>2</td>\n",
       "      <td>M</td>\n",
       "      <td>56</td>\n",
       "      <td>16</td>\n",
       "      <td>70072</td>\n",
       "    </tr>\n",
       "    <tr>\n",
       "      <th>2</th>\n",
       "      <td>3</td>\n",
       "      <td>M</td>\n",
       "      <td>25</td>\n",
       "      <td>15</td>\n",
       "      <td>55117</td>\n",
       "    </tr>\n",
       "    <tr>\n",
       "      <th>3</th>\n",
       "      <td>4</td>\n",
       "      <td>M</td>\n",
       "      <td>45</td>\n",
       "      <td>7</td>\n",
       "      <td>02460</td>\n",
       "    </tr>\n",
       "    <tr>\n",
       "      <th>4</th>\n",
       "      <td>5</td>\n",
       "      <td>M</td>\n",
       "      <td>25</td>\n",
       "      <td>20</td>\n",
       "      <td>55455</td>\n",
       "    </tr>\n",
       "  </tbody>\n",
       "</table>\n",
       "</div>"
      ],
      "text/plain": [
       "   0  1   2   3      4\n",
       "0  1  F   1  10  48067\n",
       "1  2  M  56  16  70072\n",
       "2  3  M  25  15  55117\n",
       "3  4  M  45   7  02460\n",
       "4  5  M  25  20  55455"
      ]
     },
     "execution_count": 45,
     "metadata": {},
     "output_type": "execute_result"
    }
   ],
   "source": [
    "users = pd.read_csv('ml-1m/users.dat', sep='::', header = None, engine = 'python', encoding = 'latin-1')\n",
    "users.head()"
   ]
  },
  {
   "cell_type": "markdown",
   "metadata": {},
   "source": [
    "#### Import ratings dataset\n",
    "<u>Column Meaning:</u><br>\n",
    "<i>0 - User ID<br>\n",
    "1 - Movie ID<br>\n",
    "2 - Ratings (1-5)<br>\n",
    "3 - Timestamp when movie was rated</i>"
   ]
  },
  {
   "cell_type": "code",
   "execution_count": 46,
   "metadata": {
    "scrolled": true
   },
   "outputs": [
    {
     "data": {
      "text/html": [
       "<div>\n",
       "<style scoped>\n",
       "    .dataframe tbody tr th:only-of-type {\n",
       "        vertical-align: middle;\n",
       "    }\n",
       "\n",
       "    .dataframe tbody tr th {\n",
       "        vertical-align: top;\n",
       "    }\n",
       "\n",
       "    .dataframe thead th {\n",
       "        text-align: right;\n",
       "    }\n",
       "</style>\n",
       "<table border=\"1\" class=\"dataframe\">\n",
       "  <thead>\n",
       "    <tr style=\"text-align: right;\">\n",
       "      <th></th>\n",
       "      <th>0</th>\n",
       "      <th>1</th>\n",
       "      <th>2</th>\n",
       "      <th>3</th>\n",
       "    </tr>\n",
       "  </thead>\n",
       "  <tbody>\n",
       "    <tr>\n",
       "      <th>0</th>\n",
       "      <td>1</td>\n",
       "      <td>1193</td>\n",
       "      <td>5</td>\n",
       "      <td>978300760</td>\n",
       "    </tr>\n",
       "    <tr>\n",
       "      <th>1</th>\n",
       "      <td>1</td>\n",
       "      <td>661</td>\n",
       "      <td>3</td>\n",
       "      <td>978302109</td>\n",
       "    </tr>\n",
       "    <tr>\n",
       "      <th>2</th>\n",
       "      <td>1</td>\n",
       "      <td>914</td>\n",
       "      <td>3</td>\n",
       "      <td>978301968</td>\n",
       "    </tr>\n",
       "    <tr>\n",
       "      <th>3</th>\n",
       "      <td>1</td>\n",
       "      <td>3408</td>\n",
       "      <td>4</td>\n",
       "      <td>978300275</td>\n",
       "    </tr>\n",
       "    <tr>\n",
       "      <th>4</th>\n",
       "      <td>1</td>\n",
       "      <td>2355</td>\n",
       "      <td>5</td>\n",
       "      <td>978824291</td>\n",
       "    </tr>\n",
       "  </tbody>\n",
       "</table>\n",
       "</div>"
      ],
      "text/plain": [
       "   0     1  2          3\n",
       "0  1  1193  5  978300760\n",
       "1  1   661  3  978302109\n",
       "2  1   914  3  978301968\n",
       "3  1  3408  4  978300275\n",
       "4  1  2355  5  978824291"
      ]
     },
     "execution_count": 46,
     "metadata": {},
     "output_type": "execute_result"
    }
   ],
   "source": [
    "ratings = pd.read_csv('ml-1m/ratings.dat', sep='::', header = None, engine = 'python', encoding = 'latin-1')\n",
    "ratings.head()"
   ]
  },
  {
   "cell_type": "markdown",
   "metadata": {},
   "source": [
    "#### Import training set of 80,000 movie ratings and convert to Numpy array\n",
    "<u>Column Meaning:</u><br>\n",
    "<i>0 - User ID<br>\n",
    "1 - Movie ID<br>\n",
    "2 - Ratings (1-5)<br>\n",
    "3 - Timestamp when movie was rated</i>"
   ]
  },
  {
   "cell_type": "code",
   "execution_count": 47,
   "metadata": {},
   "outputs": [
    {
     "data": {
      "text/plain": [
       "array([[        1,         1,         5, 874965758],\n",
       "       [        1,         2,         3, 876893171],\n",
       "       [        1,         3,         4, 878542960],\n",
       "       ...,\n",
       "       [      943,      1188,         3, 888640250],\n",
       "       [      943,      1228,         3, 888640275],\n",
       "       [      943,      1330,         3, 888692465]])"
      ]
     },
     "execution_count": 47,
     "metadata": {},
     "output_type": "execute_result"
    }
   ],
   "source": [
    "training_set = pd.read_csv('ml-100k/u1.base', header = None, sep = '\\t')\n",
    "training_set = np.array(training_set, dtype=int)\n",
    "training_set"
   ]
  },
  {
   "cell_type": "markdown",
   "metadata": {},
   "source": [
    "#### Import test set of 20,000 movie ratings and convert to Numpy array\n",
    "<u>Column Meaning:</u><br>\n",
    "<i>0 - User ID<br>\n",
    "1 - Movie ID<br>\n",
    "2 - Ratings (1-5)<br>\n",
    "3 - Timestamp when movie was rated</i>"
   ]
  },
  {
   "cell_type": "code",
   "execution_count": 48,
   "metadata": {},
   "outputs": [
    {
     "data": {
      "text/plain": [
       "array([[        1,         6,         5, 887431973],\n",
       "       [        1,        10,         3, 875693118],\n",
       "       [        1,        12,         5, 878542960],\n",
       "       ...,\n",
       "       [      459,       934,         3, 879563639],\n",
       "       [      460,        10,         3, 882912371],\n",
       "       [      462,       682,         5, 886365231]])"
      ]
     },
     "execution_count": 48,
     "metadata": {},
     "output_type": "execute_result"
    }
   ],
   "source": [
    "test_set = pd.read_csv('ml-100k/u1.test', header = None, sep = '\\t')\n",
    "test_set = np.array(test_set, dtype=int)\n",
    "test_set"
   ]
  },
  {
   "cell_type": "markdown",
   "metadata": {},
   "source": [
    "#### Get the max user ID"
   ]
  },
  {
   "cell_type": "code",
   "execution_count": 49,
   "metadata": {},
   "outputs": [
    {
     "data": {
      "text/plain": [
       "943"
      ]
     },
     "execution_count": 49,
     "metadata": {},
     "output_type": "execute_result"
    }
   ],
   "source": [
    "num_users = int(max(max(training_set[:, 0]), max(test_set[:,0])))\n",
    "num_users"
   ]
  },
  {
   "cell_type": "markdown",
   "metadata": {},
   "source": [
    "#### Get the max movie ID"
   ]
  },
  {
   "cell_type": "code",
   "execution_count": 50,
   "metadata": {},
   "outputs": [
    {
     "data": {
      "text/plain": [
       "1682"
      ]
     },
     "execution_count": 50,
     "metadata": {},
     "output_type": "execute_result"
    }
   ],
   "source": [
    "num_movies = int(max(max(training_set[:, 1]), max(test_set[:,1])))\n",
    "num_movies"
   ]
  },
  {
   "cell_type": "markdown",
   "metadata": {},
   "source": [
    "#### Create a function that will convert the data into an array with users in lines and movies in columns"
   ]
  },
  {
   "cell_type": "code",
   "execution_count": 51,
   "metadata": {},
   "outputs": [],
   "source": [
    "def convert(data):\n",
    "    new_data = []\n",
    "    for user_id in range(1, num_users + 1):\n",
    "        movie_ids = data[:,1][data[:, 0] == user_id]\n",
    "        rating_ids = data[:,2][data[:, 0] == user_id]\n",
    "        ratings = np.zeros(num_movies)\n",
    "        # Movie IDs start at 1 so we need to subtract 1 to get to base 0 index\n",
    "        ratings[movie_ids - 1] = rating_ids\n",
    "        new_data.append(list(ratings))\n",
    "    return new_data"
   ]
  },
  {
   "cell_type": "code",
   "execution_count": 52,
   "metadata": {},
   "outputs": [],
   "source": [
    "training_set = convert(training_set)"
   ]
  },
  {
   "cell_type": "code",
   "execution_count": 53,
   "metadata": {},
   "outputs": [],
   "source": [
    "test_set = convert(test_set)"
   ]
  },
  {
   "cell_type": "markdown",
   "metadata": {},
   "source": [
    "#### Converting data into Torch tensor"
   ]
  },
  {
   "cell_type": "code",
   "execution_count": 54,
   "metadata": {},
   "outputs": [],
   "source": [
    "training_set = torch.FloatTensor(training_set)"
   ]
  },
  {
   "cell_type": "code",
   "execution_count": 55,
   "metadata": {},
   "outputs": [],
   "source": [
    "test_set = torch.FloatTensor(test_set)"
   ]
  },
  {
   "cell_type": "markdown",
   "metadata": {},
   "source": [
    "#### Creating the AutoEncoder Neural Network Architecture"
   ]
  },
  {
   "cell_type": "code",
   "execution_count": 59,
   "metadata": {},
   "outputs": [],
   "source": [
    "class SAE(nn.Module): # Stacked AutoEncoder\n",
    "    def __init__(self, ):\n",
    "        super(SAE, self).__init__()\n",
    "        self.full_connection_1 = nn.Linear(num_movies, 20) # 20 nodes in the hidden layer as a suggested start\n",
    "        self.full_connection_2 = nn.Linear(20, 10) # 10 nodes in the hidden layer as a suggested start\n",
    "        self.full_connection_3 = nn.Linear(10, 20) # Back to 20\n",
    "        self.full_connection_4 = nn.Linear(20, num_movies) # Final output equals input\n",
    "        self.activation = nn.Sigmoid()\n",
    "    def forward(self, x):\n",
    "        x = self.activation(self.full_connection_1(x))\n",
    "        x = self.activation(self.full_connection_2(x))\n",
    "        x = self.activation(self.full_connection_3(x))\n",
    "        x = self.full_connection_4(x)\n",
    "        return x\n",
    "sae = SAE()\n",
    "criterion = nn.MSELoss()\n",
    "optimizer = optim.RMSprop(sae.parameters(), lr = 0.01, weight_decay = 0.5) # Suggested starting lr and decay"
   ]
  },
  {
   "cell_type": "markdown",
   "metadata": {},
   "source": [
    "#### Training the Stacked AutoEncoder (SAE)"
   ]
  },
  {
   "cell_type": "code",
   "execution_count": 63,
   "metadata": {},
   "outputs": [
    {
     "name": "stdout",
     "output_type": "stream",
     "text": [
      "Epoch: 1 | Loss: 1.754145405461985\n",
      "Epoch: 2 | Loss: 1.0961239210418803\n",
      "Epoch: 3 | Loss: 1.0531994729339058\n",
      "Epoch: 4 | Loss: 1.0384326912746784\n",
      "Epoch: 5 | Loss: 1.0308131209823361\n",
      "Epoch: 6 | Loss: 1.026386139312528\n",
      "Epoch: 7 | Loss: 1.0239515538903534\n",
      "Epoch: 8 | Loss: 1.022095336474183\n",
      "Epoch: 9 | Loss: 1.020839908773494\n",
      "Epoch: 10 | Loss: 1.0196636013724063\n",
      "Epoch: 11 | Loss: 1.0188403061037414\n",
      "Epoch: 12 | Loss: 1.0183335186371987\n",
      "Epoch: 13 | Loss: 1.0177876538700805\n",
      "Epoch: 14 | Loss: 1.017539947266548\n",
      "Epoch: 15 | Loss: 1.0172330076105958\n",
      "Epoch: 16 | Loss: 1.0168428794263185\n",
      "Epoch: 17 | Loss: 1.0168010939153058\n",
      "Epoch: 18 | Loss: 1.01643085927196\n",
      "Epoch: 19 | Loss: 1.0164553985697642\n",
      "Epoch: 20 | Loss: 1.0162027819578983\n",
      "Epoch: 21 | Loss: 1.0160199570508042\n",
      "Epoch: 22 | Loss: 1.0161279160662082\n",
      "Epoch: 23 | Loss: 1.015790571071349\n",
      "Epoch: 24 | Loss: 1.0160429333633154\n",
      "Epoch: 25 | Loss: 1.0156670608048928\n",
      "Epoch: 26 | Loss: 1.0156500887632944\n",
      "Epoch: 27 | Loss: 1.0151048898159605\n",
      "Epoch: 28 | Loss: 1.0150991400643419\n",
      "Epoch: 29 | Loss: 1.0128708220996852\n",
      "Epoch: 30 | Loss: 1.0117141561105454\n",
      "Epoch: 31 | Loss: 1.010976148893184\n",
      "Epoch: 32 | Loss: 1.0076048128360322\n",
      "Epoch: 33 | Loss: 1.0078136926067571\n",
      "Epoch: 34 | Loss: 1.0043153929603787\n",
      "Epoch: 35 | Loss: 1.0020195629568618\n",
      "Epoch: 36 | Loss: 0.9988175472403709\n",
      "Epoch: 37 | Loss: 0.9982010107933402\n",
      "Epoch: 38 | Loss: 0.9948995781346036\n",
      "Epoch: 39 | Loss: 0.9963958664784571\n",
      "Epoch: 40 | Loss: 0.9932336865005799\n",
      "Epoch: 41 | Loss: 0.9902283401542804\n",
      "Epoch: 42 | Loss: 0.986144927544098\n",
      "Epoch: 43 | Loss: 0.9883377512385205\n",
      "Epoch: 44 | Loss: 0.9826722465436815\n",
      "Epoch: 45 | Loss: 0.9831028743472869\n",
      "Epoch: 46 | Loss: 0.9778669543725753\n",
      "Epoch: 47 | Loss: 0.9788552584811668\n",
      "Epoch: 48 | Loss: 0.9752982388055932\n",
      "Epoch: 49 | Loss: 0.974989675318659\n",
      "Epoch: 50 | Loss: 0.96900383947675\n",
      "Epoch: 51 | Loss: 0.9746857745810948\n",
      "Epoch: 52 | Loss: 0.9705055333214211\n",
      "Epoch: 53 | Loss: 0.9705645258613895\n",
      "Epoch: 54 | Loss: 0.9689958758851153\n",
      "Epoch: 55 | Loss: 0.9650860757938755\n",
      "Epoch: 56 | Loss: 0.9716509468055761\n",
      "Epoch: 57 | Loss: 0.9647301459762887\n",
      "Epoch: 58 | Loss: 0.9599586581037735\n",
      "Epoch: 59 | Loss: 0.9617113800518459\n",
      "Epoch: 60 | Loss: 0.9608516638735215\n",
      "Epoch: 61 | Loss: 0.9588325309700426\n",
      "Epoch: 62 | Loss: 0.9568296845243658\n",
      "Epoch: 63 | Loss: 0.9559611594251025\n",
      "Epoch: 64 | Loss: 0.9540308889144049\n",
      "Epoch: 65 | Loss: 0.9539638666919252\n",
      "Epoch: 66 | Loss: 0.9558985300169481\n",
      "Epoch: 67 | Loss: 0.9593721226508253\n",
      "Epoch: 68 | Loss: 0.9599567560156794\n",
      "Epoch: 69 | Loss: 0.9550686725046116\n",
      "Epoch: 70 | Loss: 0.9528013274644401\n",
      "Epoch: 71 | Loss: 0.9505300608940035\n",
      "Epoch: 72 | Loss: 0.9481980822818358\n",
      "Epoch: 73 | Loss: 0.9488778267788657\n",
      "Epoch: 74 | Loss: 0.9469447744322593\n",
      "Epoch: 75 | Loss: 0.9477137150021001\n",
      "Epoch: 76 | Loss: 0.9453784320841478\n",
      "Epoch: 77 | Loss: 0.948824564819353\n",
      "Epoch: 78 | Loss: 0.9437318333314095\n",
      "Epoch: 79 | Loss: 0.9438796926362646\n",
      "Epoch: 80 | Loss: 0.9430183621846888\n",
      "Epoch: 81 | Loss: 0.9426212954680208\n",
      "Epoch: 82 | Loss: 0.9404369454562996\n",
      "Epoch: 83 | Loss: 0.9426527684867338\n",
      "Epoch: 84 | Loss: 0.939308194914564\n",
      "Epoch: 85 | Loss: 0.9402795831191056\n",
      "Epoch: 86 | Loss: 0.9381284094183843\n",
      "Epoch: 87 | Loss: 0.938219586506015\n",
      "Epoch: 88 | Loss: 0.9372261905073329\n",
      "Epoch: 89 | Loss: 0.9370468365247957\n",
      "Epoch: 90 | Loss: 0.9364201503361632\n",
      "Epoch: 91 | Loss: 0.9364457204570641\n",
      "Epoch: 92 | Loss: 0.934710058323734\n",
      "Epoch: 93 | Loss: 0.9352950702756103\n",
      "Epoch: 94 | Loss: 0.9334690310534813\n",
      "Epoch: 95 | Loss: 0.9341683365901063\n",
      "Epoch: 96 | Loss: 0.9325362510039384\n",
      "Epoch: 97 | Loss: 0.9334093603073853\n",
      "Epoch: 98 | Loss: 0.9318291257585735\n",
      "Epoch: 99 | Loss: 0.9328080080833211\n",
      "Epoch: 100 | Loss: 0.9310391841620878\n",
      "Epoch: 101 | Loss: 0.9312474160651378\n",
      "Epoch: 102 | Loss: 0.9299769152297432\n",
      "Epoch: 103 | Loss: 0.9310362303721722\n",
      "Epoch: 104 | Loss: 0.929244358096938\n",
      "Epoch: 105 | Loss: 0.9297885853435489\n",
      "Epoch: 106 | Loss: 0.9282016882847447\n",
      "Epoch: 107 | Loss: 0.9287087676236718\n",
      "Epoch: 108 | Loss: 0.9272236599074681\n",
      "Epoch: 109 | Loss: 0.9281794700148853\n",
      "Epoch: 110 | Loss: 0.9265221372110195\n",
      "Epoch: 111 | Loss: 0.9275518385083492\n",
      "Epoch: 112 | Loss: 0.9260073511831403\n",
      "Epoch: 113 | Loss: 0.9266768261260575\n",
      "Epoch: 114 | Loss: 0.9250591650703566\n",
      "Epoch: 115 | Loss: 0.9261928045642449\n",
      "Epoch: 116 | Loss: 0.924430039922934\n",
      "Epoch: 117 | Loss: 0.9253999310357588\n",
      "Epoch: 118 | Loss: 0.9238420783274636\n",
      "Epoch: 119 | Loss: 0.9244299935741116\n",
      "Epoch: 120 | Loss: 0.9232142401322528\n",
      "Epoch: 121 | Loss: 0.9242300331574688\n",
      "Epoch: 122 | Loss: 0.9228558963070228\n",
      "Epoch: 123 | Loss: 0.9235530804558587\n",
      "Epoch: 124 | Loss: 0.922328900226164\n",
      "Epoch: 125 | Loss: 0.9233363999969499\n",
      "Epoch: 126 | Loss: 0.9216834375039018\n",
      "Epoch: 127 | Loss: 0.9226502723539216\n",
      "Epoch: 128 | Loss: 0.9208938720881785\n",
      "Epoch: 129 | Loss: 0.9215064913547928\n",
      "Epoch: 130 | Loss: 0.9204665812384096\n",
      "Epoch: 131 | Loss: 0.921545524290957\n",
      "Epoch: 132 | Loss: 0.9200352567628333\n",
      "Epoch: 133 | Loss: 0.920993198378664\n",
      "Epoch: 134 | Loss: 0.9194882560574238\n",
      "Epoch: 135 | Loss: 0.9202812778007937\n",
      "Epoch: 136 | Loss: 0.9191111701047954\n",
      "Epoch: 137 | Loss: 0.9201673377966175\n",
      "Epoch: 138 | Loss: 0.9189553570682077\n",
      "Epoch: 139 | Loss: 0.919864258512897\n",
      "Epoch: 140 | Loss: 0.9185760324672884\n",
      "Epoch: 141 | Loss: 0.919157271200835\n",
      "Epoch: 142 | Loss: 0.9179645996780255\n",
      "Epoch: 143 | Loss: 0.9185299768447575\n",
      "Epoch: 144 | Loss: 0.9177660585306942\n",
      "Epoch: 145 | Loss: 0.918600974728904\n",
      "Epoch: 146 | Loss: 0.9175461817004641\n",
      "Epoch: 147 | Loss: 0.9182516868666597\n",
      "Epoch: 148 | Loss: 0.9170713569898865\n",
      "Epoch: 149 | Loss: 0.9176852797510728\n",
      "Epoch: 150 | Loss: 0.9165552264548339\n",
      "Epoch: 151 | Loss: 0.917128196954814\n",
      "Epoch: 152 | Loss: 0.9164475707881196\n",
      "Epoch: 153 | Loss: 0.9169612516131501\n",
      "Epoch: 154 | Loss: 0.9161292482973219\n",
      "Epoch: 155 | Loss: 0.9168062571005245\n",
      "Epoch: 156 | Loss: 0.9158387256695251\n",
      "Epoch: 157 | Loss: 0.9165906816614705\n",
      "Epoch: 158 | Loss: 0.915591059390978\n",
      "Epoch: 159 | Loss: 0.916306483356234\n",
      "Epoch: 160 | Loss: 0.9149884821817301\n",
      "Epoch: 161 | Loss: 0.9156136771526444\n",
      "Epoch: 162 | Loss: 0.9146848803263683\n",
      "Epoch: 163 | Loss: 0.9154443910031584\n",
      "Epoch: 164 | Loss: 0.9142609779266606\n",
      "Epoch: 165 | Loss: 0.914935504140944\n",
      "Epoch: 166 | Loss: 0.9139716084790123\n",
      "Epoch: 167 | Loss: 0.9141685370936428\n",
      "Epoch: 168 | Loss: 0.9137721092991532\n",
      "Epoch: 169 | Loss: 0.914344526783487\n",
      "Epoch: 170 | Loss: 0.9137220806694587\n",
      "Epoch: 171 | Loss: 0.9139944072162614\n",
      "Epoch: 172 | Loss: 0.9131775919139558\n",
      "Epoch: 173 | Loss: 0.9133450094780059\n",
      "Epoch: 174 | Loss: 0.9128588163343613\n",
      "Epoch: 175 | Loss: 0.9133822688256942\n",
      "Epoch: 176 | Loss: 0.9130793148000493\n",
      "Epoch: 177 | Loss: 0.9133810993377092\n",
      "Epoch: 178 | Loss: 0.9125304134336726\n",
      "Epoch: 179 | Loss: 0.9128408548992529\n",
      "Epoch: 180 | Loss: 0.9122505094090395\n",
      "Epoch: 181 | Loss: 0.9123201166863556\n",
      "Epoch: 182 | Loss: 0.912053332711251\n",
      "Epoch: 183 | Loss: 0.912483495681611\n",
      "Epoch: 184 | Loss: 0.911825250020062\n",
      "Epoch: 185 | Loss: 0.9121202614606105\n",
      "Epoch: 186 | Loss: 0.9114129607214339\n",
      "Epoch: 187 | Loss: 0.9114799431628212\n",
      "Epoch: 188 | Loss: 0.9109949183502252\n",
      "Epoch: 189 | Loss: 0.911701502900651\n",
      "Epoch: 190 | Loss: 0.9112367233889381\n",
      "Epoch: 191 | Loss: 0.9113215067974257\n",
      "Epoch: 192 | Loss: 0.910997161101921\n",
      "Epoch: 193 | Loss: 0.910939030986366\n",
      "Epoch: 194 | Loss: 0.9106488228206829\n",
      "Epoch: 195 | Loss: 0.9107051101427572\n",
      "Epoch: 196 | Loss: 0.9103048318254408\n",
      "Epoch: 197 | Loss: 0.91050317258481\n",
      "Epoch: 198 | Loss: 0.9100504230061581\n",
      "Epoch: 199 | Loss: 0.9102720648804848\n",
      "Epoch: 200 | Loss: 0.909823208433828\n"
     ]
    }
   ],
   "source": [
    "num_epoch = 200\n",
    "for epoch in range(1, num_epoch + 1):\n",
    "    train_loss = 0\n",
    "    s = 0.\n",
    "    for user_id in range(num_users):\n",
    "        input = Variable(training_set[user_id]).unsqueeze(0) # Create a batch of one input vector for network\n",
    "        target = input.clone()\n",
    "        if torch.sum(target.data > 0) > 0: # If user has rated at least one movie\n",
    "            output = sae.forward(input)\n",
    "            target.require_grad = False\n",
    "            output[target == 0] = 0 # Do not consider predictions associated with movies not rated by user\n",
    "            loss = criterion(output, target)\n",
    "            mean_corrector = num_movies / float(torch.sum(target.data > 0) + 1e-10) # + 1e-10 ensures not nill\n",
    "            loss.backward()\n",
    "            train_loss += np.sqrt(loss.item() * mean_corrector)\n",
    "            s += 1.\n",
    "            optimizer.step()\n",
    "    print(f'Epoch: {epoch} | Loss: {train_loss/s}')"
   ]
  },
  {
   "cell_type": "markdown",
   "metadata": {},
   "source": [
    "#### Testing the Stacked AutoEncoder (SAE)"
   ]
  },
  {
   "cell_type": "code",
   "execution_count": 65,
   "metadata": {},
   "outputs": [
    {
     "name": "stdout",
     "output_type": "stream",
     "text": [
      "Test Loss: 0.9498977348314491\n"
     ]
    }
   ],
   "source": [
    "test_loss = 0\n",
    "s = 0.\n",
    "for user_id in range(num_users):\n",
    "    input = Variable(training_set[user_id]).unsqueeze(0) # Create a batch of one input vector for network\n",
    "    target = Variable(test_set[user_id])\n",
    "    if torch.sum(target.data > 0) > 0: # If user has rated at least one movie\n",
    "        output = sae.forward(input)\n",
    "        target.require_grad = False\n",
    "        output[target.view(1,-1) == 0] = 0 # Do not consider predictions associated with movies not rated by user\n",
    "        loss = criterion(output, target)\n",
    "        mean_corrector = num_movies / float(torch.sum(target.data > 0) + 1e-10) # + 1e-10 ensures not nill\n",
    "        test_loss += np.sqrt(loss.item() * mean_corrector)\n",
    "        s += 1.\n",
    "print(f'Test Loss: {test_loss/s}')"
   ]
  }
 ],
 "metadata": {
  "kernelspec": {
   "display_name": "Python 3",
   "language": "python",
   "name": "python3"
  },
  "language_info": {
   "codemirror_mode": {
    "name": "ipython",
    "version": 3
   },
   "file_extension": ".py",
   "mimetype": "text/x-python",
   "name": "python",
   "nbconvert_exporter": "python",
   "pygments_lexer": "ipython3",
   "version": "3.7.2"
  }
 },
 "nbformat": 4,
 "nbformat_minor": 2
}
